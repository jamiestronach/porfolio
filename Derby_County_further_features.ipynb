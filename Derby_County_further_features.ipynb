{
 "cells": [
  {
   "cell_type": "code",
   "execution_count": 1,
   "metadata": {},
   "outputs": [],
   "source": [
    "import pandas as pd\n",
    "import numpy as np\n",
    "import matplotlib.pyplot as plt\n",
    "import seaborn as sns"
   ]
  },
  {
   "cell_type": "code",
   "execution_count": 2,
   "metadata": {},
   "outputs": [
    {
     "data": {
      "text/html": [
       "<div>\n",
       "<style scoped>\n",
       "    .dataframe tbody tr th:only-of-type {\n",
       "        vertical-align: middle;\n",
       "    }\n",
       "\n",
       "    .dataframe tbody tr th {\n",
       "        vertical-align: top;\n",
       "    }\n",
       "\n",
       "    .dataframe thead th {\n",
       "        text-align: right;\n",
       "    }\n",
       "</style>\n",
       "<table border=\"1\" class=\"dataframe\">\n",
       "  <thead>\n",
       "    <tr style=\"text-align: right;\">\n",
       "      <th></th>\n",
       "      <th>Date</th>\n",
       "      <th>Home Side</th>\n",
       "      <th>Away Side</th>\n",
       "      <th>Venue</th>\n",
       "      <th>KO Time</th>\n",
       "      <th>Gameweek</th>\n",
       "      <th>Attendance</th>\n",
       "      <th>Home Score</th>\n",
       "      <th>Away Score</th>\n",
       "    </tr>\n",
       "  </thead>\n",
       "  <tbody>\n",
       "    <tr>\n",
       "      <td>0</td>\n",
       "      <td>2014-08-09</td>\n",
       "      <td>Derby County</td>\n",
       "      <td>Rotherham United</td>\n",
       "      <td>iPro Stadium</td>\n",
       "      <td>15:00 GMT</td>\n",
       "      <td>1</td>\n",
       "      <td>30105.0</td>\n",
       "      <td>1.0</td>\n",
       "      <td>0.0</td>\n",
       "    </tr>\n",
       "    <tr>\n",
       "      <td>1</td>\n",
       "      <td>2014-08-11</td>\n",
       "      <td>Carlisle United</td>\n",
       "      <td>Derby County</td>\n",
       "      <td>Brunton Park</td>\n",
       "      <td>19:45 GMT</td>\n",
       "      <td>First round</td>\n",
       "      <td>3481.0</td>\n",
       "      <td>0.0</td>\n",
       "      <td>2.0</td>\n",
       "    </tr>\n",
       "    <tr>\n",
       "      <td>2</td>\n",
       "      <td>2014-08-16</td>\n",
       "      <td>Sheffield Wednesday</td>\n",
       "      <td>Derby County</td>\n",
       "      <td>Hillsborough</td>\n",
       "      <td>15:00 GMT</td>\n",
       "      <td>2</td>\n",
       "      <td>25186.0</td>\n",
       "      <td>0.0</td>\n",
       "      <td>0.0</td>\n",
       "    </tr>\n",
       "    <tr>\n",
       "      <td>3</td>\n",
       "      <td>2014-08-19</td>\n",
       "      <td>Charlton Athletic</td>\n",
       "      <td>Derby County</td>\n",
       "      <td>The Valley</td>\n",
       "      <td>19:45 GMT</td>\n",
       "      <td>3</td>\n",
       "      <td>15317.0</td>\n",
       "      <td>3.0</td>\n",
       "      <td>2.0</td>\n",
       "    </tr>\n",
       "    <tr>\n",
       "      <td>4</td>\n",
       "      <td>2014-08-23</td>\n",
       "      <td>Derby County</td>\n",
       "      <td>Fulham</td>\n",
       "      <td>iPro Stadium</td>\n",
       "      <td>15:00 GMT</td>\n",
       "      <td>4</td>\n",
       "      <td>26577.0</td>\n",
       "      <td>5.0</td>\n",
       "      <td>1.0</td>\n",
       "    </tr>\n",
       "  </tbody>\n",
       "</table>\n",
       "</div>"
      ],
      "text/plain": [
       "         Date            Home Side         Away Side         Venue    KO Time  \\\n",
       "0  2014-08-09         Derby County  Rotherham United  iPro Stadium  15:00 GMT   \n",
       "1  2014-08-11      Carlisle United      Derby County  Brunton Park  19:45 GMT   \n",
       "2  2014-08-16  Sheffield Wednesday      Derby County  Hillsborough  15:00 GMT   \n",
       "3  2014-08-19    Charlton Athletic      Derby County    The Valley  19:45 GMT   \n",
       "4  2014-08-23         Derby County            Fulham  iPro Stadium  15:00 GMT   \n",
       "\n",
       "      Gameweek  Attendance  Home Score  Away Score  \n",
       "0            1     30105.0         1.0         0.0  \n",
       "1  First round      3481.0         0.0         2.0  \n",
       "2            2     25186.0         0.0         0.0  \n",
       "3            3     15317.0         3.0         2.0  \n",
       "4            4     26577.0         5.0         1.0  "
      ]
     },
     "execution_count": 2,
     "metadata": {},
     "output_type": "execute_result"
    }
   ],
   "source": [
    "# Importing data, and reordering to be in chronological order. \n",
    "\n",
    "df = pd.read_csv(\"Derby County 2014-15 to 2019-20\")\n",
    "df.sort_values(\"Date\", inplace = True)\n",
    "df.reset_index(drop = True, inplace = True)\n",
    "df.head()"
   ]
  },
  {
   "cell_type": "markdown",
   "metadata": {},
   "source": [
    "**Creating a function that differentiates between competition types**"
   ]
  },
  {
   "cell_type": "code",
   "execution_count": 6,
   "metadata": {},
   "outputs": [],
   "source": [
    "# Creating a function to differentiate between league and cup fixtures, as well as friendlies. All league fixtures have numeric \"Gameweek\" values and as such can be used to create a competition column.\n",
    "\n",
    "import re\n",
    "def decide_comp(match_type):\n",
    "    match_type = str(match_type)\n",
    "    if not re.search('[a-zA-Z:]', match_type): \n",
    "        return \"League\"\n",
    "    elif match_type.lower() in [\"first round\", \"second round\", \"third round\", \"fourth round\", \"fifth round\",\n",
    "                                \"third round proper\", \"fourth round proper\", \"fifth round proper\", \"fourth round replay\", \n",
    "                                \"Third round replay\"]:\n",
    "        return \"Cup\"\n",
    "    elif match_type.lower() in [\"semi-final first leg\", \"semi-final second leg\", \"final\"]:\n",
    "        return \"Playoffs\"\n",
    "    elif match_type.lower() in [\"friendly\"]:\n",
    "        return \"Friendly\"\n",
    "\n",
    "\n",
    "df[\"Competition\"] = df[\"Gameweek\"].apply(lambda match_type: decide_comp(match_type))  "
   ]
  },
  {
   "cell_type": "code",
   "execution_count": 4,
   "metadata": {},
   "outputs": [
    {
     "data": {
      "text/html": [
       "<div>\n",
       "<style scoped>\n",
       "    .dataframe tbody tr th:only-of-type {\n",
       "        vertical-align: middle;\n",
       "    }\n",
       "\n",
       "    .dataframe tbody tr th {\n",
       "        vertical-align: top;\n",
       "    }\n",
       "\n",
       "    .dataframe thead th {\n",
       "        text-align: right;\n",
       "    }\n",
       "</style>\n",
       "<table border=\"1\" class=\"dataframe\">\n",
       "  <thead>\n",
       "    <tr style=\"text-align: right;\">\n",
       "      <th></th>\n",
       "      <th>Date</th>\n",
       "      <th>Home Side</th>\n",
       "      <th>Away Side</th>\n",
       "      <th>Venue</th>\n",
       "      <th>KO Time</th>\n",
       "      <th>Gameweek</th>\n",
       "      <th>Attendance</th>\n",
       "      <th>Home Score</th>\n",
       "      <th>Away Score</th>\n",
       "      <th>Competition</th>\n",
       "    </tr>\n",
       "  </thead>\n",
       "  <tbody>\n",
       "    <tr>\n",
       "      <td>284</td>\n",
       "      <td>2020-01-05</td>\n",
       "      <td>Crystal Palace</td>\n",
       "      <td>Derby County</td>\n",
       "      <td>Selhurst, London</td>\n",
       "      <td>14:01 GMT</td>\n",
       "      <td>NaN</td>\n",
       "      <td>15507.0</td>\n",
       "      <td>0.0</td>\n",
       "      <td>1.0</td>\n",
       "      <td>None</td>\n",
       "    </tr>\n",
       "    <tr>\n",
       "      <td>287</td>\n",
       "      <td>2020-01-24</td>\n",
       "      <td>Northampton Town</td>\n",
       "      <td>Derby County</td>\n",
       "      <td>Northampton</td>\n",
       "      <td>20:00 GMT</td>\n",
       "      <td>NaN</td>\n",
       "      <td>7798.0</td>\n",
       "      <td>0.0</td>\n",
       "      <td>0.0</td>\n",
       "      <td>None</td>\n",
       "    </tr>\n",
       "    <tr>\n",
       "      <td>290</td>\n",
       "      <td>2020-02-04</td>\n",
       "      <td>Derby County</td>\n",
       "      <td>Northampton Town</td>\n",
       "      <td>Derby</td>\n",
       "      <td>19:45 GMT</td>\n",
       "      <td>NaN</td>\n",
       "      <td>15860.0</td>\n",
       "      <td>4.0</td>\n",
       "      <td>2.0</td>\n",
       "      <td>None</td>\n",
       "    </tr>\n",
       "  </tbody>\n",
       "</table>\n",
       "</div>"
      ],
      "text/plain": [
       "           Date         Home Side         Away Side             Venue  \\\n",
       "284  2020-01-05    Crystal Palace      Derby County  Selhurst, London   \n",
       "287  2020-01-24  Northampton Town      Derby County       Northampton   \n",
       "290  2020-02-04      Derby County  Northampton Town             Derby   \n",
       "\n",
       "       KO Time Gameweek  Attendance  Home Score  Away Score Competition  \n",
       "284  14:01 GMT      NaN     15507.0         0.0         1.0        None  \n",
       "287  20:00 GMT      NaN      7798.0         0.0         0.0        None  \n",
       "290  19:45 GMT      NaN     15860.0         4.0         2.0        None  "
      ]
     },
     "execution_count": 4,
     "metadata": {},
     "output_type": "execute_result"
    }
   ],
   "source": [
    "# From looking at the database information, three Gameweek entries are empty, and as such would not have been allocated a valid competition value. \n",
    "\n",
    "df[df[\"Gameweek\"].isnull()]"
   ]
  },
  {
   "cell_type": "code",
   "execution_count": 22,
   "metadata": {},
   "outputs": [],
   "source": [
    "# Upon examination these are all recent cup games, potentially causing issues as the data hadn't been imported into Wikipedia yet. Makes sense to manually amend the data. \n",
    "\n",
    "df.at[[290,284,287], \"Competition\"] = \"Cup\"\n",
    "df.at[284, \"Gameweek\"] = \"Third Round Proper\"\n",
    "df.at[287, \"Gameweek\"] = \"Fourth Round Proper\"\n",
    "df.at[290, \"Gameweek\"] = \"Fourth Round Replay\""
   ]
  },
  {
   "cell_type": "code",
   "execution_count": 23,
   "metadata": {},
   "outputs": [
    {
     "data": {
      "text/plain": [
       "<matplotlib.axes._subplots.AxesSubplot at 0x23916cafe08>"
      ]
     },
     "execution_count": 23,
     "metadata": {},
     "output_type": "execute_result"
    },
    {
     "data": {
      "image/png": "[encoded data removed]",
      "text/plain": [
       "<Figure size 432x288 with 1 Axes>"
      ]
     },
     "metadata": {
      "needs_background": "light"
     },
     "output_type": "display_data"
    }
   ],
   "source": [
    "# Examining whether competition makes a real difference to the attendance. Looks like it could be a big factor. \n",
    "\n",
    "axes = plt.gca()\n",
    "axes.set_ylim(15000,35000)\n",
    "axes.set_title(\"Mean home attendance by Competition\")\n",
    "\n",
    "df[df[\"Home Side\"] == \"Derby County\"].groupby(\"Competition\").mean()[\"Attendance\"].plot.bar()"
   ]
  },
  {
   "cell_type": "markdown",
   "metadata": {},
   "source": [
    "**Creating and examining the evening feature**"
   ]
  },
  {
   "cell_type": "code",
   "execution_count": 5,
   "metadata": {},
   "outputs": [
    {
     "data": {
      "text/html": [
       "<div>\n",
       "<style scoped>\n",
       "    .dataframe tbody tr th:only-of-type {\n",
       "        vertical-align: middle;\n",
       "    }\n",
       "\n",
       "    .dataframe tbody tr th {\n",
       "        vertical-align: top;\n",
       "    }\n",
       "\n",
       "    .dataframe thead th {\n",
       "        text-align: right;\n",
       "    }\n",
       "</style>\n",
       "<table border=\"1\" class=\"dataframe\">\n",
       "  <thead>\n",
       "    <tr style=\"text-align: right;\">\n",
       "      <th></th>\n",
       "      <th>Date</th>\n",
       "      <th>Home Side</th>\n",
       "      <th>Away Side</th>\n",
       "      <th>Venue</th>\n",
       "      <th>KO Time</th>\n",
       "      <th>Gameweek</th>\n",
       "      <th>Attendance</th>\n",
       "      <th>Home Score</th>\n",
       "      <th>Away Score</th>\n",
       "      <th>Competition</th>\n",
       "      <th>Evening</th>\n",
       "    </tr>\n",
       "  </thead>\n",
       "  <tbody>\n",
       "    <tr>\n",
       "      <td>0</td>\n",
       "      <td>2014-08-09</td>\n",
       "      <td>Derby County</td>\n",
       "      <td>Rotherham United</td>\n",
       "      <td>iPro Stadium</td>\n",
       "      <td>15.00</td>\n",
       "      <td>1</td>\n",
       "      <td>30105.0</td>\n",
       "      <td>1.0</td>\n",
       "      <td>0.0</td>\n",
       "      <td>League</td>\n",
       "      <td>No</td>\n",
       "    </tr>\n",
       "    <tr>\n",
       "      <td>1</td>\n",
       "      <td>2014-08-11</td>\n",
       "      <td>Carlisle United</td>\n",
       "      <td>Derby County</td>\n",
       "      <td>Brunton Park</td>\n",
       "      <td>19.45</td>\n",
       "      <td>First round</td>\n",
       "      <td>3481.0</td>\n",
       "      <td>0.0</td>\n",
       "      <td>2.0</td>\n",
       "      <td>Cup</td>\n",
       "      <td>Yes</td>\n",
       "    </tr>\n",
       "    <tr>\n",
       "      <td>2</td>\n",
       "      <td>2014-08-16</td>\n",
       "      <td>Sheffield Wednesday</td>\n",
       "      <td>Derby County</td>\n",
       "      <td>Hillsborough</td>\n",
       "      <td>15.00</td>\n",
       "      <td>2</td>\n",
       "      <td>25186.0</td>\n",
       "      <td>0.0</td>\n",
       "      <td>0.0</td>\n",
       "      <td>League</td>\n",
       "      <td>No</td>\n",
       "    </tr>\n",
       "    <tr>\n",
       "      <td>3</td>\n",
       "      <td>2014-08-19</td>\n",
       "      <td>Charlton Athletic</td>\n",
       "      <td>Derby County</td>\n",
       "      <td>The Valley</td>\n",
       "      <td>19.45</td>\n",
       "      <td>3</td>\n",
       "      <td>15317.0</td>\n",
       "      <td>3.0</td>\n",
       "      <td>2.0</td>\n",
       "      <td>League</td>\n",
       "      <td>Yes</td>\n",
       "    </tr>\n",
       "    <tr>\n",
       "      <td>4</td>\n",
       "      <td>2014-08-23</td>\n",
       "      <td>Derby County</td>\n",
       "      <td>Fulham</td>\n",
       "      <td>iPro Stadium</td>\n",
       "      <td>15.00</td>\n",
       "      <td>4</td>\n",
       "      <td>26577.0</td>\n",
       "      <td>5.0</td>\n",
       "      <td>1.0</td>\n",
       "      <td>League</td>\n",
       "      <td>No</td>\n",
       "    </tr>\n",
       "  </tbody>\n",
       "</table>\n",
       "</div>"
      ],
      "text/plain": [
       "         Date            Home Side         Away Side         Venue  KO Time  \\\n",
       "0  2014-08-09         Derby County  Rotherham United  iPro Stadium    15.00   \n",
       "1  2014-08-11      Carlisle United      Derby County  Brunton Park    19.45   \n",
       "2  2014-08-16  Sheffield Wednesday      Derby County  Hillsborough    15.00   \n",
       "3  2014-08-19    Charlton Athletic      Derby County    The Valley    19.45   \n",
       "4  2014-08-23         Derby County            Fulham  iPro Stadium    15.00   \n",
       "\n",
       "      Gameweek  Attendance  Home Score  Away Score Competition Evening  \n",
       "0            1     30105.0         1.0         0.0      League      No  \n",
       "1  First round      3481.0         0.0         2.0         Cup     Yes  \n",
       "2            2     25186.0         0.0         0.0      League      No  \n",
       "3            3     15317.0         3.0         2.0      League     Yes  \n",
       "4            4     26577.0         5.0         1.0      League      No  "
      ]
     },
     "execution_count": 5,
     "metadata": {},
     "output_type": "execute_result"
    }
   ],
   "source": [
    "# Creating a feature to determine whether a game was played in the evening or not. First need to strip away the timezone from the KO features. \n",
    "\n",
    "def strip_timezone(time):\n",
    "    zones = [\"GMT\", \"BST\", \"UTC\", \"()\"]\n",
    "    time = str(time)\n",
    "    for zone in zones:\n",
    "        time = time.replace(zone, \"\")\n",
    "    return float(time.replace(\":\", \".\"))    \n",
    "\n",
    "df[\"KO Time\"] = df[\"KO Time\"].apply(lambda time: strip_timezone(time))\n",
    "\n",
    "# Then create a new feature to determine whether the game was played after 6pm.\n",
    "\n",
    "df[\"Evening\"] = df[\"KO Time\"].apply(lambda x : \"Yes\" if (x > 18) else \"No\")\n",
    "\n",
    "df.head()\n"
   ]
  },
  {
   "cell_type": "code",
   "execution_count": 25,
   "metadata": {},
   "outputs": [
    {
     "data": {
      "text/plain": [
       "<matplotlib.axes._subplots.AxesSubplot at 0x23916cf3848>"
      ]
     },
     "execution_count": 25,
     "metadata": {},
     "output_type": "execute_result"
    },
    {
     "data": {
      "image/png": "[encoded data removed]",
      "text/plain": [
       "<Figure size 432x288 with 1 Axes>"
      ]
     },
     "metadata": {
      "needs_background": "light"
     },
     "output_type": "display_data"
    }
   ],
   "source": [
    "# Clear difference in average attendance between games played during the day and in the evening. \n",
    "\n",
    "axes = plt.gca()\n",
    "axes.set_ylim(25000,30000)\n",
    "axes.set_title(\"Mean home attendance by KO time\")\n",
    "\n",
    "df[df[\"Home Side\"] == \"Derby County\"].groupby(\"Evening\").mean()[\"Attendance\"].plot.bar()"
   ]
  },
  {
   "cell_type": "markdown",
   "metadata": {},
   "source": [
    "**Creating an examining the bank holiday feature**"
   ]
  },
  {
   "cell_type": "code",
   "execution_count": 26,
   "metadata": {},
   "outputs": [],
   "source": [
    "# Using the holidays module, creating a list of every English bank holiday for the past ten years. \n",
    "\n",
    "from datetime import date\n",
    "import holidays\n",
    "\n",
    "df[\"Date\"] = pd.to_datetime(df[\"Date\"])\n",
    "years = list(range(2010,2021))\n",
    "bank_holidays = [hol[0] for hol in holidays.England(years = years).items()]\n",
    "\n",
    "# Creating a new column to determine with a given date is in the bank holiday list. \n",
    "\n",
    "df[\"Bank Holiday\"] = df[\"Date\"].apply(lambda date: date in bank_holidays)"
   ]
  },
  {
   "cell_type": "code",
   "execution_count": 27,
   "metadata": {},
   "outputs": [
    {
     "data": {
      "text/plain": [
       "<matplotlib.axes._subplots.AxesSubplot at 0x23916d6d948>"
      ]
     },
     "execution_count": 27,
     "metadata": {},
     "output_type": "execute_result"
    },
    {
     "data": {
      "image/png": "[encoded data removed]",
      "text/plain": [
       "<Figure size 432x288 with 1 Axes>"
      ]
     },
     "metadata": {
      "needs_background": "light"
     },
     "output_type": "display_data"
    }
   ],
   "source": [
    "# Assessing the difference between bank holiday games and regular games. \n",
    "\n",
    "axes = plt.gca()\n",
    "axes.set_ylim(25000,30000)\n",
    "axes.set_title(\"Mean home attendance by Bank Holiday\")\n",
    "\n",
    "df[df[\"Home Side\"] == \"Derby County\"].groupby(\"Bank Holiday\").mean()[\"Attendance\"].plot.bar()"
   ]
  },
  {
   "cell_type": "markdown",
   "metadata": {},
   "source": [
    "**Assessing the side's form**"
   ]
  },
  {
   "cell_type": "code",
   "execution_count": 28,
   "metadata": {},
   "outputs": [],
   "source": [
    "# Calculating the side's form over the last five games, indicated (roughly) by their goal difference over those games. \n",
    "\n",
    "GD = []\n",
    "\n",
    "for index, row in df.iterrows():\n",
    "    \n",
    "    if index > 5:\n",
    "        last_five_games = list(range(index-6, index-1))\n",
    "        goal_difference = 0 \n",
    "        \n",
    "        for game in last_five_games:\n",
    "            \n",
    "            if df[\"Home Side\"].iloc[game] == \"Derby County\":\n",
    "                goal_difference += (df[\"Home Score\"].iloc[game] - df[\"Away Score\"].iloc[game])\n",
    "            \n",
    "            elif df[\"Home Side\"].iloc[game] != \"Derby County\":\n",
    "                goal_difference += (df[\"Away Score\"].iloc[game] - df[\"Home Score\"].iloc[game]) \n",
    "        \n",
    "        GD.append(goal_difference)\n",
    "        \n",
    "# Adding the initial games that we don't have the previous data to find the rolling average for as NaN\n",
    "        \n",
    "for i in range(0,5):\n",
    "    GD.insert(i, np.NaN)  \n",
    "    \n",
    "GD.append(np.NaN)    \n",
    "\n",
    "df[\"Goal Difference last five\"] = GD"
   ]
  },
  {
   "cell_type": "code",
   "execution_count": 29,
   "metadata": {},
   "outputs": [
    {
     "data": {
      "text/plain": [
       "-0.026354029521303775"
      ]
     },
     "execution_count": 29,
     "metadata": {},
     "output_type": "execute_result"
    }
   ],
   "source": [
    "# Goal difference over the last five appears to have little impact on the attendance in general though.\n",
    "\n",
    "df[\"Attendance\"].corr(df[\"Goal Difference last five\"])"
   ]
  },
  {
   "cell_type": "code",
   "execution_count": 30,
   "metadata": {},
   "outputs": [],
   "source": [
    "# If there is not much correlation with five games, is there a number of games where goal difference would start to effect attendance more?\n",
    "\n",
    "GD_corr = pd.DataFrame()\n",
    "\n",
    "# Creating a dataframe with the rolling goal differences of the last five games through to the last thirty. \n",
    "\n",
    "for games in range(5,31):\n",
    "    \n",
    "    GD = []\n",
    "    \n",
    "    for index, row in df.iterrows():\n",
    "        \n",
    "        if index > games:\n",
    "            last_five_games = list(range((index-(games + 1)), index-1))\n",
    "            goal_difference = 0 \n",
    "            \n",
    "            for game in last_five_games:\n",
    "                \n",
    "                if df[\"Home Side\"].iloc[game] == \"Derby County\":\n",
    "                    goal_difference += (df[\"Home Score\"].iloc[game] - df[\"Away Score\"].iloc[game])\n",
    "                \n",
    "                elif df[\"Home Side\"].iloc[game] != \"Derby County\":\n",
    "                    goal_difference += (df[\"Away Score\"].iloc[game] - df[\"Home Score\"].iloc[game]) \n",
    "            \n",
    "            GD.append(goal_difference)\n",
    "\n",
    "    for i in range(0,games):\n",
    "        GD.insert(i, np.NaN)\n",
    "    \n",
    "    GD.append(np.NaN) \n",
    "    \n",
    "    GD_corr[f\"{games} games\"] = GD\n",
    "    \n",
    "# Adding the attendance column from the original data set to the new data frame.     \n",
    "        \n",
    "GD_corr[\"Attendance\"] = df[\"Attendance\"]   "
   ]
  },
  {
   "cell_type": "code",
   "execution_count": 31,
   "metadata": {},
   "outputs": [
    {
     "data": {
      "text/plain": [
       "<matplotlib.axes._subplots.AxesSubplot at 0x23916dc9088>"
      ]
     },
     "execution_count": 31,
     "metadata": {},
     "output_type": "execute_result"
    },
    {
     "data": {
      "image/png": "[encoded data removed]",
      "text/plain": [
       "<Figure size 432x288 with 1 Axes>"
      ]
     },
     "metadata": {
      "needs_background": "light"
     },
     "output_type": "display_data"
    }
   ],
   "source": [
    "# Visualising the results. Seems there is a correlation between performance and attendance, but it takes around 20 games to make a difference. \n",
    "\n",
    "axes = plt.gca()\n",
    "axes.set_title(\"Correlation between attendance and team's goal difference over prior games\")\n",
    "GD_corr.corr()[\"Attendance\"][:-1].plot.bar()"
   ]
  },
  {
   "cell_type": "code",
   "execution_count": 32,
   "metadata": {},
   "outputs": [],
   "source": [
    "df[\"Goal Difference last 20\"] = GD_corr[\"20 games\"]\n",
    "df.drop(\"Goal Difference last five\", axis=1, inplace = True)"
   ]
  },
  {
   "cell_type": "code",
   "execution_count": null,
   "metadata": {},
   "outputs": [],
   "source": []
  },
  {
   "cell_type": "code",
   "execution_count": 49,
   "metadata": {},
   "outputs": [],
   "source": [
    "df.to_csv(\"Derby_County_df\", index=False)"
   ]
  }
 ],
 "metadata": {
  "kernelspec": {
   "display_name": "Python 3",
   "language": "python",
   "name": "python3"
  },
  "language_info": {
   "codemirror_mode": {
    "name": "ipython",
    "version": 3
   },
   "file_extension": ".py",
   "mimetype": "text/x-python",
   "name": "python",
   "nbconvert_exporter": "python",
   "pygments_lexer": "ipython3",
   "version": "3.7.4"
  }
 },
 "nbformat": 4,
 "nbformat_minor": 2
}
